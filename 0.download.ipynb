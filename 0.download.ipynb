{
 "cells": [
  {
   "cell_type": "code",
   "execution_count": 13,
   "metadata": {},
   "outputs": [],
   "source": [
    "import os\n",
    "import json\n",
    "import folium\n",
    "import pandas as pd\n",
    "import numpy as np\n",
    "from zipfile import ZipFile\n",
    "from tqdm.notebook import tqdm\n",
    "import matplotlib.pyplot as plt\n",
    "from kaggle.api.kaggle_api_extended import KaggleApi\n",
    "import shutil"
   ]
  },
  {
   "cell_type": "code",
   "execution_count": 14,
   "metadata": {},
   "outputs": [],
   "source": [
    "dataset_folder = 'dataset'"
   ]
  },
  {
   "cell_type": "code",
   "execution_count": 16,
   "metadata": {},
   "outputs": [
    {
     "name": "stdout",
     "output_type": "stream",
     "text": [
      "Warning: Your Kaggle API key is readable by other users on this system! To fix this, you can run 'chmod 600 /home/arabi/.kaggle/kaggle.json'\n",
      "ref                                                  title                                     size  lastUpdated          downloadCount  voteCount  usabilityRating  \n",
      "---------------------------------------------------  ----------------------------------------  ----  -------------------  -------------  ---------  ---------------  \n",
      "jefmenegazzo/pvs-passive-vehicular-sensors-datasets  PVS - Passive Vehicular Sensors Datasets  41GB  2021-01-27 20:26:04          12994         55  0.9411765        \n"
     ]
    },
    {
     "data": {
      "application/vnd.jupyter.widget-view+json": {
       "model_id": "0a38c94c2276498dbed388c9ac609206",
       "version_major": 2,
       "version_minor": 0
      },
      "text/plain": [
       "Datasets Download:   0%|          | 0/9 [00:00<?, ?it/s]"
      ]
     },
     "metadata": {},
     "output_type": "display_data"
    },
    {
     "data": {
      "application/vnd.jupyter.widget-view+json": {
       "model_id": "c32d1bf0c1674db79f4ed9b60b808bad",
       "version_major": 2,
       "version_minor": 0
      },
      "text/plain": [
       "Files Download:   0%|          | 0/3 [00:00<?, ?it/s]"
      ]
     },
     "metadata": {},
     "output_type": "display_data"
    },
    {
     "name": "stdout",
     "output_type": "stream",
     "text": [
      "Dataset URL: https://www.kaggle.com/datasets/jefmenegazzo/pvs-passive-vehicular-sensors-datasets\n",
      "Dataset URL: https://www.kaggle.com/datasets/jefmenegazzo/pvs-passive-vehicular-sensors-datasets\n",
      "Dataset URL: https://www.kaggle.com/datasets/jefmenegazzo/pvs-passive-vehicular-sensors-datasets\n",
      "Dataset URL: https://www.kaggle.com/datasets/jefmenegazzo/pvs-passive-vehicular-sensors-datasets\n",
      "Dataset URL: https://www.kaggle.com/datasets/jefmenegazzo/pvs-passive-vehicular-sensors-datasets\n",
      "Dataset URL: https://www.kaggle.com/datasets/jefmenegazzo/pvs-passive-vehicular-sensors-datasets\n",
      "Dataset URL: https://www.kaggle.com/datasets/jefmenegazzo/pvs-passive-vehicular-sensors-datasets\n",
      "Dataset URL: https://www.kaggle.com/datasets/jefmenegazzo/pvs-passive-vehicular-sensors-datasets\n",
      "Dataset URL: https://www.kaggle.com/datasets/jefmenegazzo/pvs-passive-vehicular-sensors-datasets\n",
      "Dataset URL: https://www.kaggle.com/datasets/jefmenegazzo/pvs-passive-vehicular-sensors-datasets\n",
      "Dataset URL: https://www.kaggle.com/datasets/jefmenegazzo/pvs-passive-vehicular-sensors-datasets\n",
      "Dataset URL: https://www.kaggle.com/datasets/jefmenegazzo/pvs-passive-vehicular-sensors-datasets\n",
      "Dataset URL: https://www.kaggle.com/datasets/jefmenegazzo/pvs-passive-vehicular-sensors-datasets\n",
      "Dataset URL: https://www.kaggle.com/datasets/jefmenegazzo/pvs-passive-vehicular-sensors-datasets\n",
      "Dataset URL: https://www.kaggle.com/datasets/jefmenegazzo/pvs-passive-vehicular-sensors-datasets\n",
      "Dataset URL: https://www.kaggle.com/datasets/jefmenegazzo/pvs-passive-vehicular-sensors-datasets\n",
      "Dataset URL: https://www.kaggle.com/datasets/jefmenegazzo/pvs-passive-vehicular-sensors-datasets\n",
      "Dataset URL: https://www.kaggle.com/datasets/jefmenegazzo/pvs-passive-vehicular-sensors-datasets\n",
      "Dataset URL: https://www.kaggle.com/datasets/jefmenegazzo/pvs-passive-vehicular-sensors-datasets\n",
      "Dataset URL: https://www.kaggle.com/datasets/jefmenegazzo/pvs-passive-vehicular-sensors-datasets\n",
      "Dataset URL: https://www.kaggle.com/datasets/jefmenegazzo/pvs-passive-vehicular-sensors-datasets\n",
      "Dataset URL: https://www.kaggle.com/datasets/jefmenegazzo/pvs-passive-vehicular-sensors-datasets\n",
      "Dataset URL: https://www.kaggle.com/datasets/jefmenegazzo/pvs-passive-vehicular-sensors-datasets\n",
      "Dataset URL: https://www.kaggle.com/datasets/jefmenegazzo/pvs-passive-vehicular-sensors-datasets\n",
      "Dataset URL: https://www.kaggle.com/datasets/jefmenegazzo/pvs-passive-vehicular-sensors-datasets\n",
      "Dataset URL: https://www.kaggle.com/datasets/jefmenegazzo/pvs-passive-vehicular-sensors-datasets\n",
      "Dataset URL: https://www.kaggle.com/datasets/jefmenegazzo/pvs-passive-vehicular-sensors-datasets\n"
     ]
    }
   ],
   "source": [
    "api = KaggleApi()\n",
    "api.authenticate()\n",
    "api.dataset_list_cli(search=\"jefmenegazzo/passive-vehicular-sensors-dataset-pvs\")\n",
    "if os.path.exists(dataset_folder):\n",
    "    shutil.rmtree(dataset_folder)\n",
    "\n",
    "load_bar_datasets = tqdm(desc=\"Datasets Download\", total=9)\n",
    "load_bar_files = tqdm(desc=\"Files Download\", total=3)\n",
    "\n",
    "for dataset in range(1,10):\n",
    "    dataset_path = os.path.join(dataset_folder, \"PVS \" + str(dataset)) \n",
    "    os.makedirs(dataset_path)\n",
    "    load_bar_files.reset()\n",
    "\n",
    "    for file in [\"dataset_gps_mpu_left.csv\", \"dataset_gps_mpu_right.csv\", \"dataset_labels.csv\"]:\n",
    "        dataset_kaggle = 'jefmenegazzo/pvs-passive-vehicular-sensors-datasets'\n",
    "        api.dataset_download_file(dataset=dataset_kaggle, file_name=\"PVS \" + str(dataset) + \"/\" + file, path=dataset_path)\n",
    "        load_bar_files.update(1)\n",
    "\n",
    "    load_bar_datasets.update(1)\n",
    "\n",
    "for dataset in range(1,10):\n",
    "    \n",
    "    dataset_path = dataset_folder + \"/PVS \" + str(dataset)\n",
    "\n",
    "    for file in os.listdir(dataset_path):\n",
    "        \n",
    "        zip_file = os.path.join(dataset_path, file)\n",
    "\n",
    "        with ZipFile(zip_file, 'r') as zip_ref:\n",
    "            zip_ref.extractall(dataset_path)\n",
    "        \n",
    "        os.remove(zip_file)"
   ]
  }
 ],
 "metadata": {
  "kernelspec": {
   "display_name": "Python 3",
   "language": "python",
   "name": "python3"
  },
  "language_info": {
   "codemirror_mode": {
    "name": "ipython",
    "version": 3
   },
   "file_extension": ".py",
   "mimetype": "text/x-python",
   "name": "python",
   "nbconvert_exporter": "python",
   "pygments_lexer": "ipython3",
   "version": "3.11.7"
  }
 },
 "nbformat": 4,
 "nbformat_minor": 2
}
